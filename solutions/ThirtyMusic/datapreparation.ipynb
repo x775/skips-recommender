{
 "cells": [
  {
   "cell_type": "code",
   "execution_count": 1,
   "metadata": {},
   "outputs": [],
   "source": [
    "import csv\n",
    "import json\n",
    "import pandas as pd\n",
    "from pathlib import Path"
   ]
  },
  {
   "cell_type": "markdown",
   "metadata": {},
   "source": [
    "## Preparation\n",
    "We start by loading our generated .txt files."
   ]
  },
  {
   "cell_type": "code",
   "execution_count": 2,
   "metadata": {},
   "outputs": [],
   "source": [
    "raw_training = []\n",
    "raw_testing = []\n",
    "for path in Path(\"data\").rglob(\"*.txt\"):\n",
    "    if \"train\" in str(path): \n",
    "        raw_training.append(path) \n",
    "    else:\n",
    "        raw_testing.append(path)"
   ]
  },
  {
   "cell_type": "code",
   "execution_count": 3,
   "metadata": {},
   "outputs": [
    {
     "data": {
      "text/plain": "[PosixPath('data/30music-200ks_train_full.4.txt'),\n PosixPath('data/30music-200ks_train_full.3.txt'),\n PosixPath('data/30music-200ks_train_full.2.txt'),\n PosixPath('data/30music-200ks_train_full.0.txt'),\n PosixPath('data/30music-200ks_train_full.1.txt')]"
     },
     "execution_count": 3,
     "metadata": {},
     "output_type": "execute_result"
    }
   ],
   "source": [
    "raw_training"
   ]
  },
  {
   "cell_type": "code",
   "execution_count": 4,
   "metadata": {},
   "outputs": [
    {
     "data": {
      "text/plain": "[PosixPath('data/30music-200ks_test.4.txt'),\n PosixPath('data/30music-200ks_test.3.txt'),\n PosixPath('data/30music-200ks_test.2.txt'),\n PosixPath('data/30music-200ks_test.0.txt'),\n PosixPath('data/30music-200ks_test.1.txt')]"
     },
     "execution_count": 4,
     "metadata": {},
     "output_type": "execute_result"
    }
   ],
   "source": [
    "raw_testing"
   ]
  },
  {
   "cell_type": "markdown",
   "metadata": {},
   "source": [
    "We then proceed to loading the raw .idomaar files.\n",
    "\n",
    "This way, we can match the tracks and grab tags for later.\n"
   ]
  },
  {
   "cell_type": "code",
   "execution_count": 6,
   "metadata": {},
   "outputs": [],
   "source": [
    "all_tracks = {}\n",
    "#with open(\"H:\\\\ThirtyMusic\\\\entities\\\\tracks.idomaar\", \"r\", encoding=\"utf-8\") as source:\n",
    "with open(\"/Users/jo/Documents/ThirtyMusic/entities/tracks.idomaar\", \"r\", encoding=\"utf-8\") as source:\n",
    "    for i, line in enumerate(source):\n",
    "        _, track_id, _, response, extended = line.split(\"\\t\")\n",
    "        response = json.loads(response)\n",
    "        extended = json.loads(extended)\n",
    "        try:\n",
    "            tag_ids = [tag[\"id\"] for tag in extended[\"tags\"]]\n",
    "        except TypeError:\n",
    "            tag_ids = []\n",
    "        all_tracks[track_id] = {\"track_id\": track_id,\n",
    "                                \"duration\": response[\"duration\"],\n",
    "                                \"artist_id\": extended[\"artists\"][0][\"id\"],\n",
    "                                \"playcount\": response[\"playcount\"],\n",
    "                                \"tag_ids\": tag_ids\n",
    "                               }"
   ]
  },
  {
   "cell_type": "code",
   "execution_count": 7,
   "metadata": {},
   "outputs": [
    {
     "name": "stdout",
     "output_type": "stream",
     "text": "256278\n"
    }
   ],
   "source": [
    "all_tags = []\n",
    "#with open(\"H:\\\\ThirtyMusic\\\\entities\\\\tags.idomaar\", \"r\", encoding=\"utf-8\") as source:\n",
    "with open(\"/Users/jo/Documents/ThirtyMusic/entities/tags.idomaar\", \"r\", encoding=\"utf-8\") as source:\n",
    "    for i, line in enumerate(source):\n",
    "        all_tags.append(line.split(\"/t\")[1])\n",
    "\n",
    "print(len(set(all_tags)))"
   ]
  },
  {
   "cell_type": "code",
   "execution_count": 9,
   "metadata": {},
   "outputs": [
    {
     "name": "stdout",
     "output_type": "stream",
     "text": "4519105\n"
    }
   ],
   "source": [
    "tracks = []\n",
    "for track, data in all_tracks.items():\n",
    "    tracks.append(int(data[\"track_id\"]))\n",
    "\n",
    "print(len(set(tracks)))"
   ]
  },
  {
   "cell_type": "markdown",
   "metadata": {},
   "source": [
    "We then proceed to check number of users in the respective training and test files."
   ]
  },
  {
   "cell_type": "code",
   "execution_count": 8,
   "metadata": {},
   "outputs": [
    {
     "name": "stdout",
     "output_type": "stream",
     "text": "Testing for 0\nUsers\n9580\n932\nIntersection: 578 (62.01716738197425)\nItems\n216054\n16305\nIntersection: 16305 (100.0)\nArtists\n31366\n4116\nIntersection: 4116 (100.0)\n\n\nTesting for 1\nUsers\n9337\n862\nIntersection: 535 (62.064965197215784)\nItems\n210736\n14026\nIntersection: 14026 (100.0)\nArtists\n30947\n3586\nIntersection: 3586 (100.0)\n\n\nTesting for 2\nUsers\n9025\n852\nIntersection: 516 (60.56338028169014)\nItems\n200469\n14472\nIntersection: 14472 (100.0)\nArtists\n30353\n3743\nIntersection: 3743 (100.0)\n\n\nTesting for 3\nUsers\n9334\n973\nIntersection: 582 (59.815005138746145)\nItems\n207245\n15146\nIntersection: 15146 (100.0)\nArtists\n31529\n3991\nIntersection: 3991 (100.0)\n\n\nTesting for 4\nUsers\n11115\n1544\nIntersection: 889 (57.57772020725389)\nItems\n218665\n20318\nIntersection: 20318 (100.0)\nArtists\n33063\n5040\nIntersection: 5040 (100.0)\n\n\n"
    }
   ],
   "source": [
    "for i in range(5):\n",
    "    print(\"Testing for\", i)\n",
    "    with open(raw_training[i], \"r\") as source:\n",
    "        train_lines = source.readlines()[1:]\n",
    "    with open(raw_testing[i], \"r\") as source:\n",
    "        test_lines = source.readlines()[1:]\n",
    "\n",
    "    # Extract all train items.\n",
    "    train_users = set()\n",
    "    train_items = set()\n",
    "    train_artists = set()\n",
    "    for line in train_lines:\n",
    "        user_id, session_id, item_id, timestamp, artist_id = line.split(\"\\t\")\n",
    "        train_users.add(user_id)\n",
    "        train_items.add(item_id)\n",
    "        train_artists.add(artist_id)\n",
    "\n",
    "    # Extract all test items.\n",
    "    test_users = set()\n",
    "    test_items = set()\n",
    "    test_artists = set()\n",
    "    for line in test_lines:\n",
    "        user_id, session_id, item_id, timestamp, artist_id = line.split(\"\\t\")\n",
    "        test_users.add(user_id)\n",
    "        test_items.add(item_id)\n",
    "        test_artists.add(artist_id)\n",
    "    \n",
    "    print(\"Users\")\n",
    "    print(len(train_users))\n",
    "    print(len(test_users))\n",
    "    print(\"Intersection: {} ({})\".format(len(train_users.intersection(test_users)), \n",
    "                                         100 * (len(train_users.intersection(test_users)) / len(test_users))))\n",
    "    print(\"Items\")\n",
    "    print(len(train_items))\n",
    "    print(len(test_items))\n",
    "    print(\"Intersection: {} ({})\".format(len(train_items.intersection(test_items)), \n",
    "                                         100 * (len(train_items.intersection(test_items)) / len(test_items))))\n",
    "    print(\"Artists\")\n",
    "    print(len(train_artists))\n",
    "    print(len(test_artists))\n",
    "    print(\"Intersection: {} ({})\".format(len(train_artists.intersection(test_artists)), \n",
    "                                         100 * (len(train_artists.intersection(test_artists)) / len(test_artists))))\n",
    "\n",
    "    print(\"\\n\")"
   ]
  },
  {
   "cell_type": "markdown",
   "metadata": {},
   "source": [
    "In other words: Whilst not all test users are in the training sets (about 60% are), all songs and artists are. "
   ]
  },
  {
   "cell_type": "code",
   "execution_count": 9,
   "metadata": {},
   "outputs": [
    {
     "name": "stdout",
     "output_type": "stream",
     "text": "Dumped 0 of training\nDumped 1 of training\nDumped 2 of training\nDumped 3 of training\nDumped 4 of training\nDumped 0 of testing\nDumped 1 of testing\nDumped 2 of testing\nDumped 3 of testing\nDumped 4 of testing\n"
    }
   ],
   "source": [
    "options = [(raw_training, \"training\"), (raw_testing, \"testing\")]\n",
    "\n",
    "for files, name in options:\n",
    "    for index, split in enumerate(files):\n",
    "        sessions = {}\n",
    "        with open(split, \"r\") as source:\n",
    "            lines = source.readlines()[1:]\n",
    "            for line in lines:\n",
    "                user_id, session_id, item_id, timestamp, artist_id = line.split(\"\\t\")\n",
    "                track_tags = all_tracks[item_id][\"tag_ids\"]\n",
    "                track_tags += [0] * (5 - len(track_tags))\n",
    "                if session_id in sessions:\n",
    "                    sessions[session_id][\"track_idxs\"].append(item_id)\n",
    "                    sessions[session_id][\"tags_idxs\"].append(track_tags)\n",
    "                else:\n",
    "                    sessions[session_id] = {\"track_idxs\": [item_id],\n",
    "                                            \"tags_idxs\": [track_tags],\n",
    "                                            \"user_id\": user_id}\n",
    "                    \n",
    "        with open(\"data/{}_sessions_{}.json\".format(name, index), \"w\") as out:\n",
    "            json.dump(sessions, out)\n",
    "        \n",
    "        print(\"Dumped {} of {}\".format(index, name))"
   ]
  },
  {
   "cell_type": "code",
   "execution_count": 10,
   "metadata": {},
   "outputs": [
    {
     "name": "stdout",
     "output_type": "stream",
     "text": "Parsed  0\n9580\n932\nIntersection: 578 (62.01716738197425)\nParsed  1\n9337\n862\nIntersection: 535 (62.064965197215784)\nParsed  2\n9025\n852\nIntersection: 516 (60.56338028169014)\nParsed  3\n9334\n973\nIntersection: 582 (59.815005138746145)\nParsed  4\n11115\n1544\nIntersection: 889 (57.57772020725389)\n"
    }
   ],
   "source": [
    "for i in range(5):\n",
    "    with open(\"data/training_sessions_{}.json\".format(i), \"r\") as source:\n",
    "        processed_training = json.load(source)\n",
    "\n",
    "    with open(\"data/testing_sessions_{}.json\".format(i), \"r\") as source:\n",
    "        processed_testing = json.load(source)\n",
    "\n",
    "    processed_training_users = set()\n",
    "    for _, value in processed_training.items():\n",
    "        processed_training_users.add(value[\"user_id\"])\n",
    "\n",
    "    processed_testing_users = set()\n",
    "    for _, value in processed_testing.items():\n",
    "        processed_testing_users.add(value[\"user_id\"])\n",
    "\n",
    "    print(\"Parsed \", i)\n",
    "    print(len(processed_training_users))\n",
    "    print(len(processed_testing_users))\n",
    "    print(\"Intersection: {} ({})\".format(len(processed_training_users.intersection(processed_testing_users)), \n",
    "                                            100 * (len(processed_training_users.intersection(processed_testing_users)) \n",
    "                                                / len(processed_testing_users))))"
   ]
  },
  {
   "cell_type": "markdown",
   "metadata": {},
   "source": [
    "At this point, the %s match. We assume everything is in order."
   ]
  },
  {
   "cell_type": "markdown",
   "metadata": {},
   "source": [
    "## Conversion\n",
    "\n",
    "We proceed to convert to the format expected by STABR."
   ]
  },
  {
   "cell_type": "code",
   "execution_count": 13,
   "metadata": {},
   "outputs": [],
   "source": [
    "prepared_training = []\n",
    "prepared_testing = []\n",
    "for path in Path(\"data\").rglob(\"*.json\"):\n",
    "    if \"updated\" in str(path):\n",
    "        continue\n",
    "    if \"train\" in str(path): \n",
    "        prepared_training.append(path) \n",
    "    else:\n",
    "        prepared_testing.append(path)"
   ]
  },
  {
   "cell_type": "code",
   "execution_count": 14,
   "metadata": {},
   "outputs": [
    {
     "data": {
      "text/plain": "[PosixPath('data/training_sessions_2.json'),\n PosixPath('data/training_sessions_3.json'),\n PosixPath('data/training_sessions_4.json'),\n PosixPath('data/training_sessions_0.json'),\n PosixPath('data/training_sessions_1.json')]"
     },
     "execution_count": 14,
     "metadata": {},
     "output_type": "execute_result"
    }
   ],
   "source": [
    "prepared_training"
   ]
  },
  {
   "cell_type": "code",
   "execution_count": 15,
   "metadata": {},
   "outputs": [
    {
     "data": {
      "text/plain": "[PosixPath('data/testing_sessions_4.json'),\n PosixPath('data/testing_sessions_2.json'),\n PosixPath('data/testing_sessions_3.json'),\n PosixPath('data/testing_sessions_0.json'),\n PosixPath('data/testing_sessions_1.json')]"
     },
     "execution_count": 15,
     "metadata": {},
     "output_type": "execute_result"
    }
   ],
   "source": [
    "prepared_testing"
   ]
  },
  {
   "cell_type": "code",
   "execution_count": 16,
   "metadata": {},
   "outputs": [
    {
     "name": "stdout",
     "output_type": "stream",
     "text": ", 205245, 11242], [190991, 11056, 72354, 18645, 112911], [190991, 11242, 115355, 11056, 18645], [190991, 11056, 103394, 72354, 190986], [190991, 11056, 205245, 115355, 18645], [190991, 205245, 18645, 11242, 115355], [190991, 205245, 115355, 14177, 72354], [190991, 249028, 72354, 11242, 205245], [115684, 111866, 115355, 27136, 1831], [191251, 70618, 116047, 1831, 444], [115355, 115752, 11056, 159268, 205245], [194413, 194264, 0, 0, 0], [198998, 107401, 11234, 11154, 259294], [154646, 251199, 0, 0, 0], [444, 0, 0, 0, 0], [190255, 144283, 108691, 205245, 83064], [218701, 115532, 84597, 21937, 170061]], 'user_id': '30447'}, '2724133': {'track_idxs': ['1513374', '235939', '2072901', '1802726', '1041125'], 'tags_idxs': [[189631, 35060, 44217, 235545, 235543], [144192, 189631, 151816, 81211, 103281], [80314, 223168, 188123, 1877, 265130], [189631, 26715, 81223, 89467, 1854], [226723, 145110, 156167, 144192, 444]], 'user_id': '30562'}, '2725822': {'track_idxs': ['2380514', '2320227', '2320010', '2319995', '2319986'], 'tags_idxs': [[83064, 1854, 205245, 205032, 205033], [64978, 10804, 1877, 108571, 219860], [27319, 43212, 73582, 42894, 271235], [64978, 11957, 70618, 153101, 65604], [64978, 97198, 0, 0, 0]], 'user_id': '30758'}, '2726140': {'track_idxs': ['2027188', '3229600', '2805447', '315492', '2868148', '1456769', '2427039'], 'tags_idxs': [[205245, 35060, 148799, 162093, 79837], [31015, 115752, 12372, 31253, 48470], [205245, 11056, 11242, 163113, 0], [205245, 81247, 35060, 148799, 223211], [11242, 17011, 1854, 11257, 243510], [0, 0, 0, 0, 0], [0, 0, 0, 0, 0]], 'user_id': '30853'}, '2728676': {'track_idxs': ['230760', '230576', '230689', '230731', '230645', '230478', '3463704', '1612786', '2009142', '925414', '1523129', '2009555', '3124010', '2009617', '2009244', '2009223', '2009136', '2009638', '2009497', '2009098', '2009462', '2009857', '2009687', '2009594', '2009669', '2009758'], 'tags_idxs': [[153731, 80989, 20150, 20130, 3896], [117167, 153731, 80989, 3896, 9845], [153731, 80989, 3896, 9845, 0], [153731, 236905, 73582, 80989, 236955], [153731, 80989, 3896, 9845, 0], [153731, 80989, 154891, 3896, 9845], [144937, 205245, 82929, 11242, 153884], [97598, 97480, 2319, 0, 0], [236955, 97598, 154891, 191642, 80989], [0, 0, 0, 0, 0], [97598, 11191, 154891, 135430, 81247], [236955, 97598, 154891, 191642, 80989], [97598, 64267, 154891, 97480, 257697], [236955, 97598, 154891, 191642, 80989], [236955, 97598, 191642, 154891, 80989], [236955, 97598, 154891, 80989, 191642], [236955, 154891, 97598, 191642, 80989], [236955, 80989, 97480, 171555, 154891], [236955, 97598, 154891, 191642, 171555], [236955, 97598, 154891, 191642, 80989], [236955, 154891, 171555, 80989, 1757], [236955, 97598, 154891, 191642, 171555], [236955, 154891, 80989, 171555, 191642], [236955, 97598, 154891, 191642, 171555], [236955, 154891, 73582, 171555, 236972], [236955, 97598, 191642, 154891, 171555]], 'user_id': '31340'}, '2729073': {'track_idxs': ['235051', '1088619', '2935773', '3685650', '3610612', '3232754', '2151593', '1296798', '3589225'], 'tags_idxs': [[226723, 81223, 16245, 203440, 431], [0, 0, 0, 0, 0], [1877, 225249, 205245, 115355, 189631], [81223, 218701, 84597, 12373, 187721], [11056, 12372, 48470, 115684, 115752], [19144, 84597, 6120, 178981, 115355], [84911, 218701, 205245, 189631, 184066], [83064, 115355, 84597, 1854, 233847], [0, 0, 0, 0, 0]], 'user_id': '31421'}, '2729077': {'track_idxs': ['3685654', '3685649', '3685617', '2801541'], 'tags_idxs': [[12373, 84597, 81223, 218701, 66262], [155484, 218701, 84597, 119952, 45723], [84597, 31015, 109164, 145493, 158075], [84597, 38403, 81223, 50247, 22545]], 'user_id': '31421'}, '2732437': {'track_idxs': ['1355584', '2371559', '1212459', '1212517', '2029838', '2029763', '2029828', '2029805'], 'tags_idxs': [[89467, 4377, 0, 0, 0], [70618, 107401, 255208, 257005, 107398], [107401, 258302, 66324, 66965, 63142], [0, 0, 0, 0, 0], [82345, 0, 0, 0, 0], [0, 0, 0, 0, 0], [156929, 275251, 64510, 0, 0], [66324, 169219, 70618, 66444, 230175]], 'user_id': '32457'}, '2732549': {'track_idxs': ['2048405', '2048435', '2048096', '2048182', '2048112'], 'tags_idxs': [[107401, 122106, 117167, 175219, 122084], [117271, 122084, 255208, 122106, 117167], [200869, 107401, 175219, 122084, 255208], [107401, 175219, 122084, 255208, 0], [175219, 117167, 107401, 122084, 255208]], 'user_id': '32621'}, '2733812': {'track_idxs': ['3770848', '1901080', '459153', '1480485', '648203', '2680904', '2409460', '3511772', '1940453', '3451524', '3044143'], 'tags_idxs': [[45560, 444, 257303, 220250, 257302], [66324, 58016, 93976, 0, 0], [115355, 115752, 70618, 35060, 205245], [71028, 132903, 1854, 115355, 70618], [61837, 185476, 1854, 26715, 79674], [70618, 54087, 264057, 58174, 46942], [109806, 54087, 70618, 1854, 58174], [198998, 189631, 107398, 81223, 183258], [81223, 35060, 189631, 204710, 1831], [1877, 109806, 80314, 70618, 54087], [199971, 215342, 189631, 54087, 260432]], 'user_id': '32971'}, '2733816': {'track_idxs': ['2417696', '1350368', '1350407'], 'tags_idxs': [[66324, 34257, 70618, 198998, 19872], [115752, 81223, 205245, 115355, 1655], [204282, 205245, 81223, 115752, 115355]], 'user_id': '32971'}, '2733817': {'track_idxs': ['2690349', '1608877', '3488031', '359868', '1194481'], 'tags_idxs': [[83064, 226723, 70618, 43407, 95071], [70618, 189631, 235879, 54087, 141565], [185476, 276388, 115355, 12372, 148799], [1877, 70618, 148788, 79764, 115355], [255208, 215342, 70618, 1854, 77138]], 'user_id': '32971'}, '2734370': {'track_idxs': ['2594361', '328901', '1595185', '3156596', '1983407', '2833649', '320935', '2213833', '3690278', '3117110', '2969171', '638262', '919108', '2640127', '1885567', '1983407', '3751459'], 'tags_idxs': [[205245, 11056, 35233, 11242, 27101], [115355, 79259, 189631, 258535, 1718], [189631, 35060, 81223, 140732, 89025], [115752, 115355, 11056, 205245, 115684], [11056, 115752, 40088, 233847, 12372], [3982, 170251, 11056, 191177, 205245], [4425, 205245, 189631, 38403, 11056], [11056, 205245, 11242, 115355, 187594], [84597, 44482, 81223, 218701, 126686], [170251, 224560, 68013, 22092, 88551], [115355, 11056, 205245, 1799, 223864], [83064, 12372, 187570, 198037, 242650], [205245, 115355, 215342, 115752, 154620], [115355, 115752, 11056, 205245, 102379], [115355, 115752, 11056, 205245, 159268], [11056, 115752, 40088, 233847, 12372], [81223, 35060, 189631, 115355, 218701]], 'user_id': '33062'}, '2734371': {'track_idxs': ['707035', '901227', '3050341', '1345689'], 'tags_idxs': [[205245, 81223, 4425, 11056, 118582], [107401, 177564, 198998, 4425, 107398], [204710, 4425, 189631, 251304, 226723], [205245, 11242, 4425, 11056, 97038]], 'user_id': '33062'}, '2734374': {'track_idxs': ['658241', '2122990', '3217923', '2864486', '834389', '603434', '2191349', '2833649', '1470193', '794179', '3590618', '2844871', '1885567', '1396182', '1197970', '545073', '2571969', '2983727', '2652520', '3117110'], 'tags_idxs': [[6120, 144192, 153432, 24358, 45384], [189631, 218701, 115355, 212785, 148788], [115355, 136689, 1799, 115752, 11056], [115752, 11056, 205245, 115355, 35060], [0, 0, 0, 0, 0], [81223, 189631, 218701, 38403, 227682], [84597, 115532, 50247, 6120, 444], [3982, 170251, 11056, 191177, 205245], [205245, 228096, 78350, 205283, 115752], [0, 0, 0, 0, 0], [266268, 270354, 198998, 107401, 107398], [46208, 3668, 205245, 228096, 141699], [115355, 115752, 11056, 205245, 159268], [115355, 191686, 189631, 115752, 81223], [46208, 205245, 3668, 222627, 83798], [83064, 115355, 12372, 262433, 20812], [38403, 189631, 153432, 205245, 219982], [3982, 35060, 189631, 159007, 170251], [190255, 38403, 1799, 26709, 222623], [170251, 224560, 68013, 22092, 88551]], 'user_id': '33062'}, '2734375': {'track_idxs': ['2427045', '3007708', '2993263', '1992474', '2525270', '3360191', '2674772', '1398162', '2778596', '3003461', '1825869', '229042', '2010652', '794179'], 'tags_idxs': [[218701, 205245, 10944, 170379, 209194], [205245, 11056, 11242, 115355, 115752], [38403, 205245, 11056, 11242, 3896], [163113, 205245, 233978, 190049, 106865], [205245, 81223, 4425, 189631, 218701], [144192, 41817, 218701, 12372, 84981], [44482, 272598, 226723, 231413, 223286], [115662, 38403, 115684, 216938, 115752], [115355, 115752, 144283, 444, 35060], [205245, 11242, 54087, 11056, 61837], [107401, 70618, 81223, 54087, 35060], [115752, 115355, 11056, 205245, 38403], [89467, 226723, 189631, 81223, 227682], [0, 0, 0, 0, 0]], 'user_id': '33062'}, '2734376': {'track_idxs': ['2191349', '942155', '3389819', '2953488', '2833649', '686792', '3728152', '3416777', '3669507'], 'tags_idxs': [[84597, 115532, 50247, 6120, 444], [0, 0, 0, 0, 0], [71028, 70618, 38403, 237214, 170251], [11056, 3982, 191177, 205245, 11242], [3982, 170251, 11056, 191177, 205245], [205245, 47541, 11056, 35233, 11242], [107401, 1799, 80482, 107398, 102673], [0, 0, 0, 0, 0], [6120, 205245, 126182, 189631, 218701]], 'user_id': '33062'}, '2734378': {'track_idxs': ['2791425', '2791327', '1167099', '1167118', '2873386', '852667', '357845', '687257'], 'tags_idxs': [[11484, 153432, 6120, 21937, 209849], [153432, 205245, 84597, 6120, 148743], [83064, 274638, 84597, 274377, 205245], [115355, 205245, 84597, 218701, 115752], [29409, 0, 0, 0, 0], [115355, 115752, 11056, 205245, 57417], [11242, 205245, 25675, 218701, 84597], [115752, 205245, 77313, 53947, 115684]], 'user_id': '33062'}, '2735132': {'track_idxs': ['2967330', '2399755', '3002813', '2578923', '2909253', '1729540', '3050311', '494941', '2399755', '3002813', '2578923', '2909253', '1729540', '1826351', '1826368', '1826320', '1826373', '1826354', '1826370', '1826375', '1826348', '1826371', '1826349', '1826353', '1826319', '1826351', '1826368', '1826320', '1826373', '1826354', '1826371'], 'tags_idxs': [[43212, 115355, 50604, 81223, 41236], [44482, 3424, 272598, 81223, 177424], [44482, 3982, 108511, 170251, 272598], [190255, 115684, 115355, 81223, 142475], [44482, 44497, 272607, 24358, 56824], [44482, 189631, 272598, 150010, 81223], [44482, 44674, 204785, 44682, 4425], [44482, 115355, 34794, 108511, 272598], [44482, 3424, 272598, 81223, 177424], [44482, 3982, 108511, 170251, 272598], [190255, 115684, 115355, 81223, 142475], [44482, 44497, 272607, 24358, 56824], [44482, 189631, 272598, 150010, 81223], [0, 0, 0, 0, 0], [0, 0, 0, 0, 0], [88311, 0, 0, 0, 0], [0, 0, 0, 0, 0], [70618, 76913, 55292, 227682, 259421], [0, 0, 0, 0, 0], [0, 0, 0, 0, 0], [0, 0, 0, 0, 0], [88311, 0, 0, 0, 0], [94940, 23214, 66076, 0, 0], [0, 0, 0, 0, 0], [0, 0, 0, 0, 0], [0, 0, 0, 0, 0], [0, 0, 0, 0, 0], [88311, 0, 0, 0, 0], [0, 0, 0, 0, 0], [70618, 76913, 55292, 227682, 259421], [88311, 0, 0, 0, 0]], 'user_id': '33236'}, '2738614': {'track_idxs': ['161701', '161660', '161718', '161831', '161678', '161918', '161736', '161690', '161917', '161683', '161840', '161893', '161823', '161657', '161733', '161931', '161691', '161892', '161798', '161886', '161725'], 'tags_idxs': [[153731, 263180, 57528, 154891, 237292], [153731, 263180, 57528, 104876, 154891], [57528, 153731, 263180, 154891, 235602], [153731, 263180, 57528, 84835, 154891], [153731, 57528, 263180, 77483, 154891], [77483, 57528, 153731, 154891, 263180], [57528, 77483, 153731, 38670, 154891], [57528, 153731, 77483, 263180, 154891], [57528, 153731, 263180, 107008, 154891], [235879, 263180, 153731, 0, 0], [235879, 263180, 153731, 0, 0], [263180, 153731, 57528, 154891, 263158], [153731, 263180, 57528, 154891, 263158], [153731, 263180, 57528, 154891, 263158], [153731, 263180, 57528, 154891, 263158], [153731, 263180, 57528, 154891, 263158], [153731, 263180, 57528, 263158, 154891], [153731, 263180, 57528, 154891, 263158], [153731, 263180, 57528, 263158, 154891], [153731, 263180, 263158, 57528, 154891], [153731, 263180, 57528, 263158, 154891]], 'user_id': '33887'}, '2739664': {'track_idxs': ['3590304', '3516125', '4953620'], 'tags_idxs': [[109806, 70618, 54087, 193352, 1799], [193530, 193545, 193302, 0, 0], [0, 0, 0, 0, 0]], 'user_id': '34106'}, '2741100': {'track_idxs': ['2730894', '1193594', '652102', '1534722', '2944721', '1534398', '1397269'], 'tags_idxs': [[154891, 11056, 11191, 57387, 205245], [205245, 11056, 83433, 153432, 6120], [190255, 237214, 70618, 71028, 145093], [115684, 189631, 115355, 136098, 43212], [205245, 81211, 91383, 115355, 227682], [144283, 11056, 153162, 115355, 136098], [103394, 103362, 72971, 102657, 144283]], 'user_id': '34314'}, '2741116': {'track_idxs': ['2528461', '1566371', '3543456'], 'tags_idxs': [[70618, 54087, 70625, 115355, 205245], [70618, 237214, 38403, 71028, 70251], [205245, 81223, 154941, 6103, 6120]], 'user_id': '34314'}, '2742868': {'track_idxs': ['2726859', '2726871', '2726870'], 'tags_idxs': [[115488, 115355, 115859, 265111, 202032], [115859, 164130, 45441, 72807, 89021], [115355, 70618, 11056, 81223, 3231]], 'user_id': '34679'}, '2745876': {'track_idxs': ['197511', '197516', '197507', '2391653'], 'tags_idxs': [[50604, 45345, 205245, 115355, 115752], [117167, 194330, 115752, 168710, 194264], [11056, 81223, 11242, 1377, 83064], [238367, 190538, 83064, 37607, 81223]], 'user_id': '35609'}, '2746590': {'track_idxs': ['850687', '1269283', '2399755', '1828577', '1289476', '187020', '1229585', '3856322', '488183', '1229758'], 'tags_idxs': [[44482, 236483, 38680, 148784, 118756], [44482, 81223, 1625, 269822, 164853], [44482, 3424, 272598, 81223, 177424], [44482, 269822, 222043, 269932, 44519], [44482, 272598, 266681, 108511, 50247], [44482, 272598, 44608, 3424, 148788], [44482, 272598, 44668, 122769, 148788], [44482, 122769, 38403, 1560, 148784], [44482, 272598, 177424, 3188, 44608], [44482, 122769, 236483, 272598, 177424]], 'user_id': '35833'}, '2751133': {'track_idxs': ['1888923', '1888963', '1267386', '1267278', '3819831'], 'tags_idxs': [[263726, 127308, 97480, 122106, 97621], [263726, 122106, 127308, 97480, 159424], [134092, 54087, 1854, 133846, 26715], [154591, 134092, 112812, 134090, 133846], [134092, 192864, 198429, 189631, 54087]], 'user_id': '36740'}, '2752535': {'track_idxs': ['686589', '686070', '686088', '686140', '686140', '685998'], 'tags_idxs': [[205245, 11056, 47541, 35233, 11242], [205245, 11056, 47541, 35233, 115355], [35060, 47541, 11056, 11242, 205245], [47541, 205245, 11056, 35233, 11242], [47541, 205245, 11056, 35233, 11242], [47541, 205245, 11056, 35233, 35060]], 'user_id': '36947'}, '2753135': {'track_idxs': ['3101656', '2086781', '1102477', '1220006', '1342476', '2026685'], 'tags_idxs': [[11957, 43212, 194507, 194264, 194218], [0, 0, 0, 0, 0], [11957, 194507, 43212, 194264, 70618], [64978, 75130, 34257, 155294, 0], [43212, 144067, 158680, 116448, 64978], [43212, 11957, 70618, 194264, 24358]], 'user_id': '37085'}, '2753743': {'track_idxs': ['2153123', '2153216', '2152842', '2153032'], 'tags_idxs': [[205245, 35233, 218701, 35060, 115355], [205245, 218701, 35060, 21937, 6120], [205245, 35060, 218715, 218701, 184092], [205245, 218715, 218701, 189631, 35060]], 'user_id': '37254'}, '2754346': {'track_idxs': ['1558744', '2845561', '1559215', '709008', '825728', '2674083'], 'tags_idxs': [[46208, 103394, 205245, 138029, 3424], [205245, 194413, 0, 0, 0], [46208, 205245, 103394, 138029, 3668], [46208, 3424, 205245, 31253, 51417], [160297, 0, 0, 0, 0], [31015, 31253, 231409, 46208, 205245]], 'user_id': '37456'}, '2754354': {'track_idxs': ['2905796', '247314', '3478879', '3216556', '3216462'], 'tags_idxs': [[122769, 186445, 24749, 123367, 76913], [122769, 24749, 103038, 66471, 146566], [0, 0, 0, 0, 0], [266177, 0, 0, 0, 0], [122769, 230338, 183930, 81811, 81791]], 'user_id': '37456'}, '2754356': {'track_idxs': ['902190', '290191', '2897334', '2796148', '3368043', '887512', '362090'], 'tags_idxs': [[0, 0, 0, 0, 0], [122769, 94034, 117167, 48976, 23214], [3424, 46208, 35060, 205245, 189631], [3424, 189631, 205245, 46208, 23921], [83064, 44482, 101623, 236483, 122769], [44482, 122769, 81223, 44579, 60631], [44482, 266681, 122769, 108511, 108527]], 'user_id': '37456'}, '2756621': {'track_idxs': ['1688555', '1688815', '1689044', '1688841', '1689588', '1689809', '1688775', '1689335'], 'tags_idxs': [[189631, 3982, 81223, 147310, 144192], [189631, 54087, 147310, 70618, 81223], [54087, 189631, 147310, 61837, 81223], [189631, 54087, 147310, 70618, 61837], [189631, 54087, 4425, 81223, 147310], [189631, 54087, 147310, 81223, 61837], [189631, 54087, 147310, 70618, 81223], [189631, 3982, 147310, 54087, 81223]], 'user_id': '38174'}, '2756623': {'track_idxs': ['356518', '1963113', '1838558', '1838564', '1838576'], 'tags_idxs': [[11242, 186445, 209598, 11056, 186591], [189631, 81223, 4425, 205245, 19144], [189631, 81223, 205245, 190112, 218701], [189631, 81223, 205245, 190112, 218701], [189631, 81223, 205245, 190112, 155983]], 'user_id': '38174'}, '2756631': {'track_idxs': ['3156495', '3156534', '3156484', '338653', '338594', '338615'], 'tags_idxs': [[190255, 115355, 115684, 115752, 7514], [115355, 115752, 11056, 115684, 209867], [115752, 115355, 11056, 115684, 205245], [65509, 81223, 115355, 233278, 274055], [65509, 81223, 115355, 75130, 144782], [65509, 81223, 81229, 444, 115355]], 'user_id': '38174'}, '2758030': {'track_idxs': ['423664', '423651', '423674', '423663', '423668'], 'tags_idxs': [[139321, 49774, 12372, 144283, 48470], [144283, 189631, 62267, 120528, 1854], [186107, 0, 0, 0, 0], [144283, 0, 0, 0, 0], [0, 0, 0, 0, 0]], 'user_id': '38437'}, '2758031': {'track_idxs': ['1844972', '2331253', '600252', '1974291', '339864', '316404'], 'tags_idxs': [[219398, 4425, 219564, 195173, 11056], [219398, 219564, 195173, 219565, 205245], [190255, 115684, 115355, 237214, 11056], [260147, 84597, 44391, 98423, 11242], [115355, 11056, 185476, 48470, 223211], [81223, 251940, 70618, 160181, 215129]], 'user_id': '38437'}, '2758032': {'track_idxs': ['2008730', '339875', '499990', '500009', '3670597', '3670585'], 'tags_idxs': [[0, 0, 0, 0, 0], [198137, 191177, 185476, 201979, 0], [115355, 136789, 115684, 27228, 26715], [115355, 11056, 115752, 205245, 43212], [0, 0, 0, 0, 0], [0, 0, 0, 0, 0]], 'user_id': '38437'}, '2758034': {'track_idxs': ['3205103', '889281', '889280', '889275', '2331253'], 'tags_idxs': [[115684, 40088, 12372, 155507, 1877], [0, 0, 0, 0, 0], [223211, 21515, 0, 0, 0], [0, 0, 0, 0, 0], [219398, 219564, 195173, 219565, 205245]], 'user_id': '38437'}, '2758035': {'track_idxs': ['2692168', '1528223', '1455968', '1731160', '1707476', '1340736'], 'tags_idxs': [[219398, 201327, 233234, 205245, 195173], [195456, 195173, 219647, 190049, 249912], [107401, 198998, 42894, 131396, 107398], [38403, 11056, 205245, 100728, 195456], [2419, 201979, 0, 0, 0], [219398, 219564, 195173, 195456, 205245]], 'user_id': '38437'}, '2760542': {'track_idxs': ['1318111', '2104693', '1912475', '274717'], 'tags_idxs': [[204710, 94159, 94156, 220882, 270345], [107401, 107398, 181072, 264784, 226723], [107401, 107398, 42894, 160906, 259295], [107401, 107398, 198998, 18544, 4425]], 'user_id': '39102'}, '2760543': {'track_idxs': ['2985929', '2910223', '1218231', '906724', '2795859', '2443985', '965563'], 'tags_idxs': [[246407, 0, 0, 0, 0], [46208, 222627, 3424, 177424, 1114], [226723, 204710, 0, 0, 0], [226723, 3424, 177424, 81223, 68498], [205245, 0, 0, 0, 0], [226723, 3424, 203440, 177424, 148784], [122769, 236483, 117167, 28131, 236561]], 'user_id': '39102'}, '2761165': {'track_idxs': ['2163377', '3252240', '2009194', '2009495', '1134266', '588185', '2515242', '982120', '1104443'], 'tags_idxs': [[66324, 66444, 70618, 63142, 184640], [236955, 55274, 18307, 153976, 154891], [236955, 97598, 154891, 191642, 80989], [236955, 117167, 97598, 154891, 191642], [205245, 11191, 75914, 81223, 97621], [115355, 47313, 86253, 94381, 0], [136980, 189631, 215851, 228654, 81223], [227682, 14348, 14395, 159939, 192760], [169455, 40741, 73531, 117167, 11957]], 'user_id': '39322'}, '2761218': {'track_idxs': ['3816900', '3816897', '1016025', '1016022', '3816899', '1016024', '3816900', '3816897'], 'tags_idxs': [[0, 0, 0, 0, 0], [0, 0, 0, 0, 0], [0, 0, 0, 0, 0], [0, 0, 0, 0, 0], [127210, 0, 0, 0, 0], [0, 0, 0, 0, 0], [0, 0, 0, 0, 0], [0, 0, 0, 0, 0]], 'user_id': '39356'}}\n"
    }
   ],
   "source": [
    "with open(prepared_testing[0], \"r\") as source:\n",
    "    data = json.load(source)\n",
    "\n",
    "print(data)"
   ]
  },
  {
   "cell_type": "code",
   "execution_count": 14,
   "metadata": {},
   "outputs": [],
   "source": [
    "reordered_tracks = {}\n",
    "reordered_tracks_id = 1\n",
    "reordered_tags = {}\n",
    "reordered_tags_id = 1\n",
    "reordered_sessions = {}\n",
    "reordered_sessions_id = 1\n",
    "# We only read in for training as the training data holds\n",
    "# 100% of the tracks and tags the testing data does. \n",
    "for entry in prepared_training:\n",
    "    with open(entry, \"r\") as source:\n",
    "        data = json.load(source)\n",
    "        for key, value in data.items():\n",
    "            # Add key to reordered sessions.\n",
    "            if key not in reordered_sessions:\n",
    "                reordered_sessions[key] = reordered_sessions_id\n",
    "                reordered_sessions_id += 1\n",
    "\n",
    "            # Iterate all tracks associated with current session.\n",
    "            for track in value[\"track_idxs\"]:\n",
    "                if track not in reordered_tracks:\n",
    "                    reordered_tracks[track] = reordered_tracks_id\n",
    "                    reordered_tracks_id += 1\n",
    "                    \n",
    "            # Iterate all tags associated with current session.\n",
    "            for tags in value[\"tags_idxs\"]:\n",
    "                for tag in tags:\n",
    "                    # We wish to skip 0 as this is our padding.\n",
    "                    if tag not in reordered_tags and tag != 0:\n",
    "                        reordered_tags[tag] = reordered_tags_id\n",
    "                        reordered_tags_id += 1"
   ]
  },
  {
   "cell_type": "code",
   "execution_count": 16,
   "metadata": {},
   "outputs": [],
   "source": [
    "prepared_options = [(prepared_training, \"training\"), \n",
    "                    (prepared_testing, \"testing\")]\n",
    "\n",
    "for files, name in prepared_options:\n",
    "    for index, entry in enumerate(files):\n",
    "        with open(entry, \"r\") as source:\n",
    "            data = json.load(source)\n",
    "            new_data = {}\n",
    "            for key, value in data.items():\n",
    "                # We grab the new ID for tracks: All tracks from test exist in train.\n",
    "                new_tracks = [reordered_tracks[track] for track in value[\"track_idxs\"]]\n",
    "                new_tags = []\n",
    "                for tags in value[\"tags_idxs\"]:\n",
    "                    new_tags.append([tag if tag == 0 else reordered_tags[tag] \n",
    "                                     for tag in tags])\n",
    "                \n",
    "                new_data[int(key)] = {\"track_idxs\": new_tracks,\n",
    "                                      \"tags_idxs\": new_tags,\n",
    "                                      \"user_id\": value[\"user_id\"]}\n",
    "            \n",
    "            with open(\"w_updated_{}_sessions_{}.json\".format(name, index), \"w\") as out:\n",
    "                json.dump(new_data, out)"
   ]
  },
  {
   "cell_type": "markdown",
   "metadata": {},
   "source": [
    "## Verification\n",
    "\n",
    "We proced to verify that we have attained the correct splits post reodering and processing."
   ]
  },
  {
   "cell_type": "code",
   "execution_count": 18,
   "metadata": {},
   "outputs": [
    {
     "name": "stdout",
     "output_type": "stream",
     "text": "Parsed  0\n9580\n932\nIntersection: 578 (62.01716738197425)\nParsed  1\n9337\n862\nIntersection: 535 (62.064965197215784)\nParsed  2\n9025\n852\nIntersection: 516 (60.56338028169014)\nParsed  3\n9334\n973\nIntersection: 582 (59.815005138746145)\nParsed  4\n11115\n1544\nIntersection: 889 (57.57772020725389)\n"
    }
   ],
   "source": [
    "for i in range(5):\n",
    "    with open(\"data/updated_training_sessions_{}.json\".format(i), \"r\") as source:\n",
    "        processed_training = json.load(source)\n",
    "\n",
    "    with open(\"data/updated_testing_sessions_{}.json\".format(i), \"r\") as source:\n",
    "        processed_testing = json.load(source)\n",
    "\n",
    "    processed_training_users = set()\n",
    "    for _, value in processed_training.items():\n",
    "        processed_training_users.add(value[\"user_id\"])\n",
    "\n",
    "    processed_testing_users = set()\n",
    "    for _, value in processed_testing.items():\n",
    "        processed_testing_users.add(value[\"user_id\"])\n",
    "\n",
    "    print(\"Parsed \", i)\n",
    "    print(len(processed_training_users))\n",
    "    print(len(processed_testing_users))\n",
    "    print(\"Intersection: {} ({})\".format(len(processed_training_users.intersection(processed_testing_users)), \n",
    "                                            100 * (len(processed_training_users.intersection(processed_testing_users)) \n",
    "                                                / len(processed_testing_users))))"
   ]
  },
  {
   "cell_type": "markdown",
   "metadata": {},
   "source": [
    "## Analysis\n",
    "\n",
    "We need the total number of tags and songs for the training."
   ]
  },
  {
   "cell_type": "code",
   "execution_count": 30,
   "metadata": {},
   "outputs": [],
   "source": [
    "updated_training = []\n",
    "updated_testing = []\n",
    "for path in Path(\"data\").rglob(\"*.json\"):\n",
    "    if \"updated_train\" in str(path): \n",
    "        updated_training.append(path)\n",
    "    elif \"updated_test\" in str(path):\n",
    "        updated_testing.append(path)"
   ]
  },
  {
   "cell_type": "code",
   "execution_count": 32,
   "metadata": {},
   "outputs": [
    {
     "name": "stdout",
     "output_type": "stream",
     "text": "83128\n"
    }
   ],
   "source": [
    "all_tags = []\n",
    "for entry in updated_testing:\n",
    "    with open(entry, \"r\") as source:\n",
    "        data = json.load(source)\n",
    "        for key, value in data.items():\n",
    "            for tags in value[\"tags_idxs\"]:\n",
    "                for tag in tags:\n",
    "                    all_tags.append(tag)\n",
    "                    \n",
    "for entry in updated_training:\n",
    "    with open(entry, \"r\") as source:\n",
    "        data = json.load(source)\n",
    "        for key, value in data.items():\n",
    "            for tags in value[\"tags_idxs\"]:\n",
    "                for tag in tags:\n",
    "                    all_tags.append(tag)\n",
    "\n",
    "print(len(set(all_tags)))"
   ]
  }
 ],
 "metadata": {
  "kernelspec": {
   "display_name": "Python 3",
   "language": "python",
   "name": "python3"
  },
  "language_info": {
   "codemirror_mode": {
    "name": "ipython",
    "version": 3
   },
   "file_extension": ".py",
   "mimetype": "text/x-python",
   "name": "python",
   "nbconvert_exporter": "python",
   "pygments_lexer": "ipython3",
   "version": "3.7.6-final"
  }
 },
 "nbformat": 4,
 "nbformat_minor": 4
}